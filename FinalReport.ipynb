{
 "cells": [
  {
   "cell_type": "markdown",
   "metadata": {},
   "source": [
    "# Dallas-Texas OpenStreetMap Data Case Study"
   ]
  },
  {
   "cell_type": "code",
   "execution_count": 3,
   "metadata": {
    "collapsed": false,
    "scrolled": true
   },
   "outputs": [],
   "source": [
    "import osm_functions as osmf\n",
    "import osm_variables as osmv\n",
    "import write_csvs as csv\n",
    "import pandas as pd"
   ]
  },
  {
   "cell_type": "markdown",
   "metadata": {},
   "source": [
    "## Map Area\n",
    "\n",
    "**Dallas, Texas, United States.**\n",
    "\n",
    "The OpenStreetMap (OSM) data were downloaded from: https://mapzen.com/data/metro-extracts/metro/dallas_texas/, which provides chunks of OSM data clipped to the rectangular region surrounding Dallas - Fort Worth area as seen on the map below. "
   ]
  },
  {
   "cell_type": "markdown",
   "metadata": {},
   "source": [
    "<img src=\"dallas.png\" style=\"width: 300px;\" align=\"left\"/>"
   ]
  },
  {
   "cell_type": "markdown",
   "metadata": {},
   "source": [
    "The boundaries of the subject area in this project are as follow:"
   ]
  },
  {
   "cell_type": "code",
   "execution_count": 6,
   "metadata": {
    "collapsed": false
   },
   "outputs": [
    {
     "data": {
      "text/html": [
       "<div>\n",
       "<table border=\"1\" class=\"dataframe\">\n",
       "  <thead>\n",
       "    <tr style=\"text-align: right;\">\n",
       "      <th></th>\n",
       "      <th>Latitude</th>\n",
       "      <th>Longitude</th>\n",
       "    </tr>\n",
       "  </thead>\n",
       "  <tbody>\n",
       "    <tr>\n",
       "      <th>min</th>\n",
       "      <td>32.166</td>\n",
       "      <td>-97.789</td>\n",
       "    </tr>\n",
       "    <tr>\n",
       "      <th>max</th>\n",
       "      <td>33.431</td>\n",
       "      <td>-96.113</td>\n",
       "    </tr>\n",
       "  </tbody>\n",
       "</table>\n",
       "</div>"
      ],
      "text/plain": [
       "    Latitude Longitude\n",
       "min   32.166   -97.789\n",
       "max   33.431   -96.113"
      ]
     },
     "execution_count": 6,
     "metadata": {},
     "output_type": "execute_result"
    }
   ],
   "source": [
    "pd.DataFrame(osmf.get_map_bounds(osmv.OSM_PATH), index=['min', 'max'])"
   ]
  },
  {
   "cell_type": "markdown",
   "metadata": {},
   "source": [
    "The Dallas metro extracts was chosen because my family is planning a trip to the area this summer. I think it would be interesting to see what the OpenStreetMap data of Dallas have to offer to first time visitors like me, and I also love the idea of contributing to its improvement on OpenStreetMap.org.   "
   ]
  },
  {
   "cell_type": "markdown",
   "metadata": {},
   "source": [
    "## Problems Encountered in the Map\n",
    "\n",
    "Prior to working with the entire dataset, an initial review was performed on several samples of the data. I noticed some problems with the samples as highlighted below:"
   ]
  },
  {
   "cell_type": "markdown",
   "metadata": {},
   "source": [
    "### Child Tag Keys\n",
    "There's consistency issue within element child tag's key in the dataset, especially between regular data and Topologically Integrated Geographic Encoding and Referencing system (TIGER) data. For example, regular OSM data use \"addr:street\" as a key for  street name, but TIGER based data use several tags to represent a street name, such as \"tiger:name_base\", \"tiger:name_direction_prefix\", and \"tiger:name_type\". In this project, I chose to focus on data cleaning for regular OSM data and to leave the TIGER based data as is."
   ]
  },
  {
   "cell_type": "markdown",
   "metadata": {},
   "source": [
    "#### Number of TIGER tags"
   ]
  },
  {
   "cell_type": "code",
   "execution_count": null,
   "metadata": {
    "collapsed": false
   },
   "outputs": [],
   "source": [
    "sqlite> SELECT COUNT(*)\n",
    "        FROM (\n",
    "              SELECT * FROM nodes_tags UNION ALL\n",
    "              SELECT * FROM ways_tags UNION ALL\n",
    "              SELECT * FROM relations_tags) e\n",
    "        WHERE e.type = 'tiger';"
   ]
  },
  {
   "cell_type": "code",
   "execution_count": null,
   "metadata": {
    "collapsed": true
   },
   "outputs": [],
   "source": [
    "1296460"
   ]
  },
  {
   "cell_type": "markdown",
   "metadata": {},
   "source": [
    "#### Number of total tags"
   ]
  },
  {
   "cell_type": "code",
   "execution_count": null,
   "metadata": {
    "collapsed": true
   },
   "outputs": [],
   "source": [
    "sqlite> SELECT COUNT(*)\n",
    "        FROM (\n",
    "              SELECT * FROM nodes_tags UNION ALL\n",
    "              SELECT * FROM ways_tags UNION ALL\n",
    "              SELECT * FROM relations_tags) e;"
   ]
  },
  {
   "cell_type": "code",
   "execution_count": null,
   "metadata": {
    "collapsed": true
   },
   "outputs": [],
   "source": [
    "3115530"
   ]
  },
  {
   "cell_type": "markdown",
   "metadata": {},
   "source": [
    "Thus, 41.61% tags in the database are from TIGER, making the decision to leave them out in the cleaning process might seem unreasonable. However, considering the fact that these data were produced by US Census Bureau and prior editing had also been done to these data, I believe that the decision is reasonable. Here are some TIGER name_base tags pulled from the database"
   ]
  },
  {
   "cell_type": "code",
   "execution_count": null,
   "metadata": {
    "collapsed": true
   },
   "outputs": [],
   "source": [
    "sqlite> SELECT value as name_base \n",
    "        FROM ways_tags\n",
    "        WHERE type = 'tiger' AND key='name_base'\n",
    "        LIMIT 10;"
   ]
  },
  {
   "cell_type": "code",
   "execution_count": null,
   "metadata": {
    "collapsed": true
   },
   "outputs": [],
   "source": [
    "name_base\n",
    "----------------------\n",
    "Dallas North Tollway\n",
    "Hulen\n",
    "Private Road 2415\n",
    "Greenbrier\n",
    "County Road 818\n",
    "County Road 2424\n",
    "Kirkwood\n",
    "I-30\n",
    "Private Road 2416\n",
    "Private Road 2416"
   ]
  },
  {
   "cell_type": "markdown",
   "metadata": {},
   "source": [
    "### Street Name Values\n",
    "After several reviews and audits using audit_street_name.py, I found the following problems with street name:"
   ]
  },
  {
   "cell_type": "markdown",
   "metadata": {},
   "source": [
    "#### Problematic characters\n",
    "* 'S. This could be the result of prior capitalization of the first letter of each words in street name. The fix to this problem is to replace 'S with 's. For example, **Green'S Court** should be updated to **Green's Court**.\n",
    "* Comma character. Some street names contain a comma between street name and building number. The fix to this inconsistency is to remove comma from street name. For example: **Forest Central Drive, Suite 300** should be updated to **Forest Central Drive Suite 300**.\n",
    "* Semicolon character. Some street names contain a semicolon such as in **East Harwood Road;Harwood Road**. I chose to remove the semicolon from street name and all characters that follow. The problematic street name in the example should be updated to **East Hardwood Road**.\n",
    "* Ordinal number with capital letter. Some street names contain an ordinal number with capital letter. This could be another result of prior capitalization of the first letter of each words in street name. The fix to this problem is to replace capital  letters in ordinal number with lower letters. For example, **West 12Th Street** should be updated to **West 12th Street**. "
   ]
  },
  {
   "cell_type": "markdown",
   "metadata": {},
   "source": [
    "#### Building types\n",
    "* Abbreviated suite. Some street names contain an abbreviation of the word suite, such as in **Avenue N Ste 3**. This street name should be updated to **Avenue N Suite 3**. \n",
    "* Hash (#) character. Some street names have # character such as in **Ridge Road #110**. I chose to handle this issue by replacing # character with No. instead. The street name in the example should then be updated to **Ridge Road No.110**. "
   ]
  },
  {
   "cell_type": "markdown",
   "metadata": {},
   "source": [
    "#### Abbreviated cardinal/ordinal points (direction)\n",
    "Some street names have abbreviated point or points in them such as in **N Interstate 35 E**. This street name should be updated to **North Interstate 35 East**. The problem with updating points is that some letters might not correspond to a point at all such as in **West John W Carpenter Freeway**. The letter W in this street name should not be updated to West. "
   ]
  },
  {
   "cell_type": "markdown",
   "metadata": {},
   "source": [
    "#### Abbreviated street types\n",
    "Some street names have an abbreviated street type such as in **Avoca St.**. This street name should be updated to **Avoca Street**. In addition, I also found several special cases in street types such as **Hwy78**, which I chose to handle in the cleaning process of street types. Specific handlings of those special cases can be found in clean_street_name.py file under clean_type method."
   ]
  },
  {
   "cell_type": "markdown",
   "metadata": {},
   "source": [
    "#### Inconsistent highway name\n",
    "Some highway names were inconsistently written. For example, **Texas Highway 78** is inconsistently written as **Hwy 78**, **State Highway 78**, or **TX 78**. All these names should be updated to the standard **Texas Highway 78**. I also found several special cases in highway naming and numbering such as in **S Interstate 35E**, which need special handling to update the number to 35 East. Specific handlings of those special cases can be found in clean_street_name.py file under clean_highway method."
   ]
  },
  {
   "cell_type": "markdown",
   "metadata": {},
   "source": [
    "### Zip code Value\n",
    "After several reviews and audits of samples data using audit_postcode.py, I found the following problems with zip codes:\n",
    "* Non digit value. Some zip codes include an abbreviated state name such in **TX 75070**, some zip codes include '-' characters such as in **76209-1540**. \n",
    "* Non 5-digit value. This is also the case with both zip codes in examples above.\n",
    "* Non Dallas area zip codes. Some zip codes are not even from Dallas and it's the surrounding area. For example, **54231** is a zip code of an area in Kewaunee County in Wisconsin and it is not suppose to be in Dallas map.\n",
    "The fix to all these problems is to extract only the 5 digit zip code. The **TX 75070** should be updated to **75070**, and **76209-1540** to **76209**. I chose not to include zip codes that are not from surrounding Dallas area when writing the data into csv files for database import."
   ]
  },
  {
   "cell_type": "markdown",
   "metadata": {},
   "source": [
    "After importing the dataset with clean zip codes into a database, we can perform an aggregation below to see the result: "
   ]
  },
  {
   "cell_type": "code",
   "execution_count": null,
   "metadata": {
    "collapsed": true
   },
   "outputs": [],
   "source": [
    "sqlite> SELECT tags.value as zipcode, COUNT(*) as count\n",
    "        FROM (\n",
    "              SELECT * FROM nodes_tags UNION ALL\n",
    "              SELECT * FROM relations_tags UNION ALL\n",
    "              SELECT * FROM ways_tags\n",
    "             ) tags\n",
    "        WHERE tags.key = 'postcode'\n",
    "        GROUP BY tags.value\n",
    "        ORDER BY count DESC;"
   ]
  },
  {
   "cell_type": "markdown",
   "metadata": {},
   "source": [
    "Here are the top ten result of zipcode sorted by count, edited for readability:"
   ]
  },
  {
   "cell_type": "code",
   "execution_count": null,
   "metadata": {
    "collapsed": true
   },
   "outputs": [],
   "source": [
    "zipcode   count\n",
    "--------  ------\n",
    "75104      630\n",
    "75093      325\n",
    "75070      182\n",
    "76013      182\n",
    "75051      120\n",
    "76210      119\n",
    "75069       92\n",
    "75019       89\n",
    "75050       78\n",
    "75080       73"
   ]
  },
  {
   "cell_type": "markdown",
   "metadata": {},
   "source": [
    "### City Name Value\n",
    "After several reviews and audits of samples data using audit_city_name.py, I found the following problems with city names:\n",
    "* Include state name. Some city names have state name included in them, such as in **Allen, Texas** or **Allen TX**. The fix to this problem is to remove state name from city name. Both **Allen, Texas** and **Allen TX** should be updated to **Allen**.\n",
    "* Non alphabet. Some city names have non alphabet characters, such as in **Ft. Worth** or **4920**. I chose not to include city name like **4920** when writing the data into csv files for database import. Meanwhile, the **Ft. Worth** city name should be updated to **Fort Worth**.\n",
    "* Abbreviated and misspelled name. Some city names have abbreviated word in it such as in **DFW**, and some others were misspelled such as in **De Soto**. I updated those names to **Dallas Fort Worth** and **DeSoto** respectively."
   ]
  },
  {
   "cell_type": "markdown",
   "metadata": {},
   "source": [
    "Below is an aggregation used to sort city name in the database which contains cleaned city names:"
   ]
  },
  {
   "cell_type": "code",
   "execution_count": null,
   "metadata": {
    "collapsed": true
   },
   "outputs": [],
   "source": [
    "sqlite> SELECT tags.value as city, COUNT(*) as count\n",
    "        FROM (\n",
    "              SELECT * FROM nodes_tags UNION ALL\n",
    "              SELECT * FROM relations_tags UNION ALL\n",
    "              SELECT * FROM ways_tags) tags\n",
    "        WHERE tags.key = 'city'\n",
    "        GROUP BY tags.value\n",
    "        ORDER BY count DESC;"
   ]
  },
  {
   "cell_type": "markdown",
   "metadata": {},
   "source": [
    "Here are the top ten city sorted by count, edited for readability:"
   ]
  },
  {
   "cell_type": "code",
   "execution_count": null,
   "metadata": {
    "collapsed": true
   },
   "outputs": [],
   "source": [
    "city             count\n",
    "---------------  ------\n",
    "Frisco           49574\n",
    "Plano             3059\n",
    "Dallas             785\n",
    "Cedar Hill         629\n",
    "Fort Worth         504\n",
    "Arlington          325\n",
    "McKinney           299\n",
    "Grand Prairie      255\n",
    "Irving             146\n",
    "Denton             138"
   ]
  },
  {
   "cell_type": "markdown",
   "metadata": {},
   "source": [
    "  \n",
    "  \n",
    "  \n",
    "  \n",
    "  \n",
    "  "
   ]
  },
  {
   "cell_type": "markdown",
   "metadata": {},
   "source": [
    " "
   ]
  },
  {
   "cell_type": "markdown",
   "metadata": {},
   "source": [
    " "
   ]
  },
  {
   "cell_type": "markdown",
   "metadata": {},
   "source": [
    "# Data Overview\n",
    "\n",
    "## File Sizes"
   ]
  },
  {
   "cell_type": "code",
   "execution_count": null,
   "metadata": {
    "collapsed": false
   },
   "outputs": [],
   "source": [
    "Dallas_Texas.osm ......... 1370297.5 KB\n",
    "Dallas (database) ......... 804670.5 KB\n",
    "nodes.csv ................. 558753.3 KB\n",
    "nodes_tags.csv ............. 12694.1 KB\n",
    "relations.csv ................ 202.2 KB\n",
    "relations_nodes.csv ........... 44.6 KB\n",
    "relations_relations.csv ........ 4.2 KB\n",
    "relations_tags.csv ........... 570.3 KB\n",
    "relations_ways.csv ........... 832.4 KB\n",
    "ways.csv ................... 42188.4 KB\n",
    "ways_nodes.csv ............ 169299.1 KB\n",
    "ways_tags.csv ............. 101753.0 KB"
   ]
  },
  {
   "cell_type": "markdown",
   "metadata": {},
   "source": [
    "## OSM Elements Counts\n",
    "\n",
    "### Elements counts in Dallas_Texas.osm"
   ]
  },
  {
   "cell_type": "code",
   "execution_count": 60,
   "metadata": {
    "collapsed": false
   },
   "outputs": [
    {
     "data": {
      "text/html": [
       "<div>\n",
       "<table border=\"1\" class=\"dataframe\">\n",
       "  <thead>\n",
       "    <tr style=\"text-align: right;\">\n",
       "      <th></th>\n",
       "      <th>node</th>\n",
       "      <th>relation</th>\n",
       "      <th>way</th>\n",
       "    </tr>\n",
       "  </thead>\n",
       "  <tbody>\n",
       "    <tr>\n",
       "      <th>counts</th>\n",
       "      <td>6103171</td>\n",
       "      <td>3126</td>\n",
       "      <td>629047</td>\n",
       "    </tr>\n",
       "  </tbody>\n",
       "</table>\n",
       "</div>"
      ],
      "text/plain": [
       "           node  relation     way\n",
       "counts  6103171      3126  629047"
      ]
     },
     "execution_count": 60,
     "metadata": {},
     "output_type": "execute_result"
    }
   ],
   "source": [
    "pd.DataFrame(osmf.get_element_count(osmv.OSM_PATH), index = ['counts'])"
   ]
  },
  {
   "cell_type": "markdown",
   "metadata": {},
   "source": [
    "### Elements counts in Database\n",
    "\n",
    "**Node counts**"
   ]
  },
  {
   "cell_type": "code",
   "execution_count": null,
   "metadata": {
    "collapsed": false
   },
   "outputs": [],
   "source": [
    "sqlite> SELECT COUNT(*) FROM nodes;"
   ]
  },
  {
   "cell_type": "markdown",
   "metadata": {},
   "source": [
    "6103171\n",
    "\n",
    "**Relation counts**"
   ]
  },
  {
   "cell_type": "code",
   "execution_count": null,
   "metadata": {
    "collapsed": false
   },
   "outputs": [],
   "source": [
    "sqlite> SELECT COUNT(*) FROM relations;"
   ]
  },
  {
   "cell_type": "markdown",
   "metadata": {},
   "source": [
    "3126"
   ]
  },
  {
   "cell_type": "markdown",
   "metadata": {},
   "source": [
    " "
   ]
  },
  {
   "cell_type": "markdown",
   "metadata": {},
   "source": [
    "\n",
    "**Way counts**"
   ]
  },
  {
   "cell_type": "code",
   "execution_count": null,
   "metadata": {
    "collapsed": true
   },
   "outputs": [],
   "source": [
    "sqlite> SELECT COUNT(*) FROM ways;"
   ]
  },
  {
   "cell_type": "markdown",
   "metadata": {},
   "source": [
    "629047\n",
    "\n",
    "Notice that we have the same numbers of nodes, relations, and ways in the OSM file and in the database, which means we have successfully imported all elements into the database.\n",
    "\n",
    "## OSM User's Facts:\n",
    "\n",
    "### Number of unique users"
   ]
  },
  {
   "cell_type": "code",
   "execution_count": null,
   "metadata": {
    "collapsed": false
   },
   "outputs": [],
   "source": [
    "sqlite> SELECT COUNT(DISTINCT(e.uid))\n",
    "        FROM (SELECT uid FROM nodes UNION ALL SELECT uid FROM relations UNION ALL SELECT uid FROM ways) e;"
   ]
  },
  {
   "cell_type": "markdown",
   "metadata": {},
   "source": [
    "2088\n",
    "\n",
    "### Top ten contributors"
   ]
  },
  {
   "cell_type": "code",
   "execution_count": null,
   "metadata": {
    "collapsed": true
   },
   "outputs": [],
   "source": [
    "sqlite> SELECT e.uid, e.user, COUNT(*) as count\n",
    "        FROM (\n",
    "              SELECT uid, user FROM nodes UNION ALL\n",
    "              SELECT uid, user FROM relations UNION ALL\n",
    "              SELECT uid, user FROM ways\n",
    "             ) e\n",
    "        GROUP BY e.uid\n",
    "        ORDER BY count DESC\n",
    "        LIMIT 10;"
   ]
  },
  {
   "cell_type": "markdown",
   "metadata": {},
   "source": [
    "The results are edited for readability: "
   ]
  },
  {
   "cell_type": "code",
   "execution_count": null,
   "metadata": {
    "collapsed": true
   },
   "outputs": [],
   "source": [
    "uid       user                    count\n",
    "--------  ----------------------  --------\n",
    "4904442   Andrew Matheny_import   3374554\n",
    "147510    woodpeck_fixbot         1081569\n",
    "3265371   Andrew Matheny           225082\n",
    "4018842   Stephen214               185248\n",
    "2362216   TheDude05                133140\n",
    "672878    TexasNHD                  88117\n",
    "37392     25or6to4                  68580\n",
    "36121     Chris Lawrence            60008\n",
    "2012449   Dami_Tn                   54512\n",
    "20587     balrog-kun                54405"
   ]
  },
  {
   "cell_type": "markdown",
   "metadata": {},
   "source": [
    "### Number of users appearing only once"
   ]
  },
  {
   "cell_type": "code",
   "execution_count": null,
   "metadata": {
    "collapsed": true
   },
   "outputs": [],
   "source": [
    "sqlite> SELECT COUNT(*)\n",
    "        FROM (\n",
    "              SELECT e.uid, COUNT(*) as num\n",
    "              FROM (\n",
    "                    SELECT uid FROM nodes UNION ALL\n",
    "                    SELECT uid FROM relations UNION ALL\n",
    "                    SELECT uid FROM ways\n",
    "                   ) e\n",
    "              GROUP BY e.uid\n",
    "              HAVING num=1\n",
    "             ) u;"
   ]
  },
  {
   "cell_type": "markdown",
   "metadata": {},
   "source": [
    "436"
   ]
  },
  {
   "cell_type": "markdown",
   "metadata": {},
   "source": [
    "### Skewed user contributions\n",
    "\n",
    "Using similar aggregations as above, we can see that almost half of users contributed to less than 10 posts each and only 47 out of 2088 unique users contributed to more than ten thousand posts each. \n",
    "\n",
    "Here are some user percentage statistics:\n",
    "* Top user contribution (Andrew Matheny_import) - 50.10%\n",
    "* Top 2 users contribution (Andrew Matheny_import & woodpect_fixbot) - 66.16%\n",
    "* Top 10 users contribution - 76.06%\n",
    "\n",
    "It is clear that user's contribution to OpenStreetMap is highly skewed."
   ]
  },
  {
   "cell_type": "markdown",
   "metadata": {},
   "source": [
    "# Additional Data Exploration\n",
    "\n",
    "## Top 5 Religions\n",
    "\n",
    "The rank is based on the number of OSM element tagged as place of worship:"
   ]
  },
  {
   "cell_type": "code",
   "execution_count": null,
   "metadata": {
    "collapsed": true
   },
   "outputs": [],
   "source": [
    "sqlite> SELECT c.value as religion, COUNT(*) as count\n",
    "        FROM (\n",
    "              SELECT key, value FROM nodes_tags UNION ALL\n",
    "              SELECT key, value FROM relations_tags UNION ALL\n",
    "              SELECT key, value FROM ways_tags\n",
    "             ) c\n",
    "        WHERE c.key = 'religion'\n",
    "        GROUP BY c.value\n",
    "        ORDER BY count DESC\n",
    "        LIMIT 5; "
   ]
  },
  {
   "cell_type": "code",
   "execution_count": null,
   "metadata": {
    "collapsed": true
   },
   "outputs": [],
   "source": [
    "religion                  count\n",
    "------------------------  ------\n",
    "christian                 2832\n",
    "muslim                    5\n",
    "unitarian_universalist    4\n",
    "hindu                     3\n",
    "jewish                    3"
   ]
  },
  {
   "cell_type": "markdown",
   "metadata": {},
   "source": [
    "## Top 5 Most Popular Fast Food & Restaurant Chains\n",
    "\n",
    "The rank is based on number of OSM element tagged either as fast food or restaurant."
   ]
  },
  {
   "cell_type": "code",
   "execution_count": null,
   "metadata": {
    "collapsed": false
   },
   "outputs": [],
   "source": [
    "sqlite> SELECT value AS name, COUNT(*) AS count\n",
    "        FROM (\n",
    "              SELECT value FROM nodes_tags\n",
    "              WHERE key = 'name' AND id IN (\n",
    "                    SELECT id FROM nodes_tags\n",
    "                    WHERE key = 'amenity' AND (value = 'restaurant' OR value = 'fast_food'))\n",
    "              UNION ALL\n",
    "              SELECT value FROM ways_tags\n",
    "              WHERE key = 'name' AND id IN (\n",
    "                    SELECT id FROM ways_tags\n",
    "                    WHERE key = 'amenity' AND (value = 'restaurant' OR value = 'fast_food'))\n",
    "              UNION ALL\n",
    "              SELECT value FROM relations_tags\n",
    "              WHERE key = 'name' AND id IN (\n",
    "                    SELECT id FROM relations_tags\n",
    "                    WHERE key = 'amenity' AND (value = 'restaurant' OR value = 'fast_food')))\n",
    "        GROUP BY name\n",
    "        ORDER BY count DESC\n",
    "        LIMIT 5;"
   ]
  },
  {
   "cell_type": "code",
   "execution_count": null,
   "metadata": {
    "collapsed": true
   },
   "outputs": [],
   "source": [
    "name                  count\n",
    "--------------------  -----\n",
    "Whataburger           154\n",
    "McDonald's            120\n",
    "Chick-fil-A           74\n",
    "Wendy's               64\n",
    "Schlotzsky's Deli     61"
   ]
  },
  {
   "cell_type": "markdown",
   "metadata": {},
   "source": [
    " "
   ]
  },
  {
   "cell_type": "markdown",
   "metadata": {},
   "source": [
    " "
   ]
  },
  {
   "cell_type": "markdown",
   "metadata": {},
   "source": [
    "## Dallas Bike Routes\n",
    "\n",
    "### Number of bike routes"
   ]
  },
  {
   "cell_type": "code",
   "execution_count": null,
   "metadata": {
    "collapsed": true
   },
   "outputs": [],
   "source": [
    "sqlite> SELECT COUNT(*) as count \n",
    "        FROM (\n",
    "              SELECT * FROM nodes_tags UNION ALL\n",
    "              SELECT * FROM relations_tags UNION ALL\n",
    "              SELECT * FROM ways_tags\n",
    "             ) e\n",
    "        WHERE e.key = 'route' and e.value = 'bicycle';"
   ]
  },
  {
   "cell_type": "markdown",
   "metadata": {},
   "source": [
    "97\n",
    "\n",
    "### Bike routes with the most way connections\n",
    "\n",
    "The rank is based on the number of ways element in the bike route relations "
   ]
  },
  {
   "cell_type": "code",
   "execution_count": null,
   "metadata": {
    "collapsed": true
   },
   "outputs": [],
   "source": [
    "sqlite> SELECT relations_tags.value as route_name, e.id, e.way_counts\n",
    "        FROM relations_tags \n",
    "        JOIN (\n",
    "              SELECT relations_ways.id, COUNT(*) as way_counts\n",
    "              FROM relations_ways JOIN relations JOIN relations_tags\n",
    "              ON relations_ways.id = relations.id AND relations.id = relations_tags.id\n",
    "              WHERE relations_tags.key = 'route' AND relations_tags.value = 'bicycle'\n",
    "              GROUP BY relations_ways.id) e\n",
    "        ON relations_tags.id = e.id\n",
    "        WHERE relations_tags.key = 'name'\n",
    "        ORDER BY e.way_counts DESC\n",
    "        LIMIT 5;"
   ]
  },
  {
   "cell_type": "code",
   "execution_count": null,
   "metadata": {
    "collapsed": true
   },
   "outputs": [],
   "source": [
    "route_name            id          way_counts\n",
    "--------------------  ----------  ----------\n",
    "On-Street Route 45    1328724     246\n",
    "On-Street Route 37    1310620     189\n",
    "On-Street Route 100   1310535     118\n",
    "On-Street Route 170   1310748     108\n",
    "On-Street Route 23    1337848     108"
   ]
  },
  {
   "cell_type": "markdown",
   "metadata": {},
   "source": [
    " "
   ]
  },
  {
   "cell_type": "markdown",
   "metadata": {},
   "source": [
    " "
   ]
  },
  {
   "cell_type": "markdown",
   "metadata": {},
   "source": [
    " "
   ]
  },
  {
   "cell_type": "markdown",
   "metadata": {},
   "source": [
    "### Area of bike route with the most way connections"
   ]
  },
  {
   "cell_type": "code",
   "execution_count": null,
   "metadata": {
    "collapsed": true
   },
   "outputs": [],
   "source": [
    "sqlite> SELECT Min(lat), Max(lat), Min(lon), Max(lon) \n",
    "        FROM nodes\n",
    "        WHERE id IN (\n",
    "                     SELECT node_id FROM ways_nodes JOIN ways JOIN relations_ways\n",
    "                     ON ways_nodes.id = ways.id AND ways.id = relations_ways.way_id\n",
    "                     WHERE relations_ways.id = 1328724\n",
    "                    );"
   ]
  },
  {
   "cell_type": "code",
   "execution_count": null,
   "metadata": {
    "collapsed": true
   },
   "outputs": [],
   "source": [
    "Min(lat)    Max(lat)    Min(lon)    Max(lon)\n",
    "----------  ----------  ----------  ----------\n",
    "32.633195   32.9977948  -96.846283  -96.763855"
   ]
  },
  {
   "cell_type": "markdown",
   "metadata": {},
   "source": [
    "### Area of bike route with second most member way connections"
   ]
  },
  {
   "cell_type": "code",
   "execution_count": null,
   "metadata": {
    "collapsed": true
   },
   "outputs": [],
   "source": [
    "sqlite> SELECT Min(lat), Max(lat), Min(lon), Max(lon) \n",
    "        FROM nodes\n",
    "        WHERE id IN (\n",
    "                     SELECT node_id FROM ways_nodes JOIN ways JOIN relations_ways\n",
    "                     ON ways_nodes.id = ways.id AND ways.id = relations_ways.way_id\n",
    "                     WHERE relations_ways.id = 1310620\n",
    "                    );"
   ]
  },
  {
   "cell_type": "code",
   "execution_count": null,
   "metadata": {
    "collapsed": true
   },
   "outputs": [],
   "source": [
    "Min(lat)    Max(lat)    Min(lon)    Max(lon)\n",
    "----------  ----------  ----------  ----------\n",
    "32.6475542  33.0086425  -96.857216  -96.7834"
   ]
  },
  {
   "cell_type": "markdown",
   "metadata": {},
   "source": [
    "# Additional Ideas\n",
    "\n",
    "## Weekly Challenges\n",
    "\n",
    "In order to motivate user's contribution, I think OpenStreetMap can create weekly challenges for its users to tag areas in the map based on specific theme for the week. For example, this week's theme could be place of worship, and next week's theme could be 'elementary school', and so on. As a reward for completing a challenge, users get points or badges. Furthermore, there can also be user ranking based on points or badges accumulation. At last, OpenStreetMap can let users share and showcase their OSM contribution on online social media, not only as a way to motivate current users but also to motivate new people to contribute to OpenStreetMap.\n",
    "\n",
    "However, allowing too many new users to contribute to OpenStreetMap might increase user errors in OSM data which is not desirable. Therefore, a careful consideration is needed in an attempt to implement this suggestion."
   ]
  },
  {
   "cell_type": "markdown",
   "metadata": {},
   "source": [
    "## More Cleaning\n",
    "\n",
    "More data cleaning is needed to increase reliability of OSM data.  Names of supermarkets and names of cafes in tag child elements are some examples of data that need cleaning. \n",
    "\n",
    "While cleaning current data is easier to handle, keeping future data entries clean and consistent with cleaned data could be harder to do because the open source nature of OSM. Regular data cleaning could be an option to solve this issue."
   ]
  },
  {
   "cell_type": "markdown",
   "metadata": {},
   "source": [
    "## The Use of OSM Element\n",
    "\n",
    "After exploring the OSM database, I found some inconsistencies in the use of OSM element to represent a place. For example, a school can be tagged as a node, a way, or a relation, depending on how a user draw the place in the map. "
   ]
  },
  {
   "cell_type": "code",
   "execution_count": null,
   "metadata": {
    "collapsed": false
   },
   "outputs": [],
   "source": [
    "sqlite> SELECT COUNT(*) FROM nodes_tags\n",
    "        WHERE key = 'amenity' AND value = 'school';"
   ]
  },
  {
   "cell_type": "code",
   "execution_count": null,
   "metadata": {
    "collapsed": true
   },
   "outputs": [],
   "source": [
    "614"
   ]
  },
  {
   "cell_type": "code",
   "execution_count": null,
   "metadata": {
    "collapsed": true
   },
   "outputs": [],
   "source": [
    "sqlite> SELECT COUNT(*) FROM ways_tags\n",
    "        WHERE key = 'amenity' AND value = 'school';"
   ]
  },
  {
   "cell_type": "code",
   "execution_count": null,
   "metadata": {
    "collapsed": true
   },
   "outputs": [],
   "source": [
    "1330"
   ]
  },
  {
   "cell_type": "code",
   "execution_count": null,
   "metadata": {
    "collapsed": true
   },
   "outputs": [],
   "source": [
    "sqlite> SELECT COUNT(*) FROM relations_tags\n",
    "        WHERE key = 'amenity' AND value = 'school';"
   ]
  },
  {
   "cell_type": "code",
   "execution_count": null,
   "metadata": {
    "collapsed": true
   },
   "outputs": [],
   "source": [
    "2"
   ]
  },
  {
   "cell_type": "markdown",
   "metadata": {},
   "source": [
    "Therefore, in order to find all schools in the map, I have to queries all three tables (*nodes*, *ways*, and *relations*) as follow:"
   ]
  },
  {
   "cell_type": "code",
   "execution_count": null,
   "metadata": {
    "collapsed": true
   },
   "outputs": [],
   "source": [
    "sqlite> SELECT COUNT(*) as count\n",
    "        FROM (\n",
    "              SELECT key, value FROM nodes_tags UNION ALL\n",
    "              SELECT key, value FROM ways_tags UNION ALL\n",
    "              SELECT key, value FROM relations_tags\n",
    "             ) e\n",
    "        WHERE e.key = 'amenity' AND e.value = 'school';"
   ]
  },
  {
   "cell_type": "code",
   "execution_count": null,
   "metadata": {
    "collapsed": true
   },
   "outputs": [],
   "source": [
    "1946"
   ]
  },
  {
   "cell_type": "markdown",
   "metadata": {},
   "source": [
    "However, since a *way*, per OSM definition, consists of *nodes*, and a *relation* consists of *ways* and/or *nodes*, it is not clear whether *nodes* in a school *way*, or *ways* in a school relations, are counted as different schools. \n",
    "\n",
    "This confusion can be prevented by consistent use of OSM element to represent the same type of area. For example, a school should all be tagged as a *way* and a restaurant should also be tagged as a *way*. However, a stricter rule might discourage user contributions which is not desirable."
   ]
  },
  {
   "cell_type": "markdown",
   "metadata": {},
   "source": [
    "# Conclusion\n",
    "\n",
    "It is obvious after reviewing that the OSM data of Dallas area need further cleaning. Though most of the cleaning process can be done programmatically, manual cleaning might also be needed to handle special cases. Since clean data promote data consistency, this process is worth the effort though there is always a possibility of getting a less desirable side effect that a significant chunk of data could be trashed by a strict cleaning process. Additionally, data completeness is also a problem in OSM data that can only be improved by pulling location information from electronic devices instead of relying on users to input them manually.\n",
    "\n",
    "# References\n",
    "\n",
    "- http://wiki.openstreetmap.org/wiki/OSM_XML\n",
    "- https://mapzen.com/data/metro-extracts/metro/dallas_texas/\n",
    "- https://discussions.udacity.com/t/help-cleaning-data/169833/81\n",
    "- https://discussions.udacity.com/t/how-do-nodes-ways-and-relations-connected-to-each-other/245764"
   ]
  }
 ],
 "metadata": {
  "anaconda-cloud": {},
  "kernelspec": {
   "display_name": "Python [conda env:DAND]",
   "language": "python",
   "name": "conda-env-DAND-py"
  },
  "language_info": {
   "codemirror_mode": {
    "name": "ipython",
    "version": 2
   },
   "file_extension": ".py",
   "mimetype": "text/x-python",
   "name": "python",
   "nbconvert_exporter": "python",
   "pygments_lexer": "ipython2",
   "version": "2.7.12"
  }
 },
 "nbformat": 4,
 "nbformat_minor": 2
}
